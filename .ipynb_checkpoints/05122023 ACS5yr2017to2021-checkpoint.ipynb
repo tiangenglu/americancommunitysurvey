{
 "cells": [
  {
   "cell_type": "code",
   "execution_count": 6,
   "id": "b2607a32",
   "metadata": {},
   "outputs": [],
   "source": [
    "import pandas as pd\n",
    "import time"
   ]
  },
  {
   "cell_type": "code",
   "execution_count": 7,
   "id": "eca806ce",
   "metadata": {},
   "outputs": [],
   "source": [
    "file_path = r\"/Users/tiangeng/Downloads/csv_ppa2017_2021/psam_p42.csv\""
   ]
  },
  {
   "cell_type": "markdown",
   "id": "faf2d164",
   "metadata": {},
   "source": [
    "# American Community Survey (ACS) PUMS vs Public-Use Microdata Areas (PUMAs) crosswalk\n",
    "\n",
    "## ACS Microdata\n",
    "\n",
    "- 2017-2021 American Community Survey (ACS) 5-year Microdata,\n",
    "- Download link: https://www2.census.gov/programs-surveys/acs/data/pums/2021/5-Year/?C=N;O=A\n",
    "  \n",
    "\n",
    "## Documentations\n",
    "\n",
    "- Understanding and Using the American Community Survey Public Use Microdata Sample Files, pp.3-8 https://www.census.gov/content/dam/Census/library/publications/2021/acs/acs_pums_handbook_2021.pdf\n",
    "    - \"*Limiting the geographic areas that can be identified in the PUMS. Data are available for the nation,regions, divisions, states, and Public Use Microdata Areas (PUMAs). The section on “Public Use Microdata Areas” provides more information*\"(p. 2)\n",
    "\n",
    "- 2017-2021 ACS 5-year PUMS Data Dictionary, https://www2.census.gov/programs-surveys/acs/tech_docs/pums/data_dict/PUMS_Data_Dictionary_2017-2021.pdf\n",
    "\n",
    "- 2010 PUMA Names, https://www2.census.gov/geo/pdfs/reference/puma/2010_PUMA_Names.pdf\n",
    "\n",
    "- All About Public-Use Microdata Areas (PUMAs), https://mcdc.missouri.edu/geography/PUMAs.html\n",
    "\n",
    "## 2020 TIGER/Line Technical Documentation\n",
    "\n",
    "- https://www2.census.gov/geo/pdfs/maps-data/data/tiger/tgrshp2020/TGRSHP2020_TechDoc_Ch6.pdf"
   ]
  },
  {
   "cell_type": "code",
   "execution_count": 8,
   "id": "78d4ec09",
   "metadata": {},
   "outputs": [
    {
     "name": "stdout",
     "output_type": "stream",
     "text": [
      "--- 3.1924779415130615 seconds ---\n"
     ]
    }
   ],
   "source": [
    "start_time = time.time()\n",
    "cols = ['SERIALNO','ST','PUMA','PWGTP','JWTRNS','OCCP','SEX','AGEP']\n",
    "dtypes = {'SERIALNO':str,'ST':str,'PUMA':str,'PWGTP':int,'JWTRNS':str,'OCCP':str, 'SEX':str, 'AGEP':int}\n",
    "df = pd.read_csv(filepath_or_buffer = file_path, usecols = cols, index_col = False, dtype = dtypes)\n",
    "print(\"--- %s seconds ---\" % (time.time() - start_time))"
   ]
  },
  {
   "cell_type": "code",
   "execution_count": 9,
   "id": "2f979dc1",
   "metadata": {},
   "outputs": [
    {
     "name": "stdout",
     "output_type": "stream",
     "text": [
      "<class 'pandas.core.frame.DataFrame'>\n",
      "RangeIndex: 645639 entries, 0 to 645638\n",
      "Data columns (total 8 columns):\n",
      " #   Column    Non-Null Count   Dtype \n",
      "---  ------    --------------   ----- \n",
      " 0   SERIALNO  645639 non-null  object\n",
      " 1   PUMA      645639 non-null  object\n",
      " 2   ST        645639 non-null  object\n",
      " 3   PWGTP     645639 non-null  int64 \n",
      " 4   AGEP      645639 non-null  int64 \n",
      " 5   JWTRNS    296777 non-null  object\n",
      " 6   SEX       645639 non-null  object\n",
      " 7   OCCP      390631 non-null  object\n",
      "dtypes: int64(2), object(6)\n",
      "memory usage: 39.4+ MB\n"
     ]
    }
   ],
   "source": [
    "df.info()"
   ]
  },
  {
   "cell_type": "code",
   "execution_count": 10,
   "id": "56f88a6b",
   "metadata": {},
   "outputs": [
    {
     "data": {
      "text/plain": [
       "SERIALNO         0\n",
       "PUMA             0\n",
       "ST               0\n",
       "PWGTP            0\n",
       "AGEP             0\n",
       "JWTRNS      348862\n",
       "SEX              0\n",
       "OCCP        255008\n",
       "dtype: int64"
      ]
     },
     "execution_count": 10,
     "metadata": {},
     "output_type": "execute_result"
    }
   ],
   "source": [
    "df.isna().sum()"
   ]
  },
  {
   "cell_type": "code",
   "execution_count": 11,
   "id": "ed3ed016",
   "metadata": {},
   "outputs": [
    {
     "data": {
      "text/plain": [
       "JWTRNS    54.03\n",
       "OCCP      39.50\n",
       "dtype: float64"
      ]
     },
     "execution_count": 11,
     "metadata": {},
     "output_type": "execute_result"
    }
   ],
   "source": [
    "# The percentage of missing values in means of transportation to work and occupation\n",
    "round(100*df.isna().sum()[df.isna().sum()>0]/df.shape[0],2)"
   ]
  },
  {
   "cell_type": "code",
   "execution_count": 12,
   "id": "33c0d344",
   "metadata": {},
   "outputs": [
    {
     "name": "stdout",
     "output_type": "stream",
     "text": [
      "For the variable of 'means of transportation to work', there're 54.03% NA values.\n"
     ]
    }
   ],
   "source": [
    "print(\"For the variable of 'means of transportation to work', there're \" + \\\n",
    "      str(round(100*df['JWTRNS'].isna().sum()/df.shape[0],2))+\"% NA values.\")"
   ]
  },
  {
   "cell_type": "code",
   "execution_count": 13,
   "id": "37302b9c",
   "metadata": {},
   "outputs": [],
   "source": [
    "# Create a survey year variable from the serial number from the first four digits.\n",
    "df['YEAR'] = df['SERIALNO'].str[:4]"
   ]
  },
  {
   "cell_type": "code",
   "execution_count": 14,
   "id": "3fdae8a7",
   "metadata": {},
   "outputs": [],
   "source": [
    "df = df.reset_index(drop = True) # reset index to get rid of previous row names"
   ]
  },
  {
   "cell_type": "code",
   "execution_count": 15,
   "id": "7bd7b898",
   "metadata": {},
   "outputs": [],
   "source": [
    "PUMA_counts = df['PUMA'].value_counts().rename_axis('PUMA').reset_index(name = 'counts')\n",
    "PUMA_counts = PUMA_counts.sort_values('PUMA', ascending = True)"
   ]
  },
  {
   "cell_type": "code",
   "execution_count": 17,
   "id": "1d916b1c",
   "metadata": {},
   "outputs": [
    {
     "name": "stdout",
     "output_type": "stream",
     "text": [
      "The Pennsylvania 2017-2021 ACS 5-year data cover 92 unique PUMA codes.\n"
     ]
    }
   ],
   "source": [
    "print(\"The Pennsylvania 2017-2021 ACS 5-year data cover\",str(len(set(df['PUMA']))),\"unique PUMA codes.\")"
   ]
  },
  {
   "cell_type": "markdown",
   "id": "cc1696b4",
   "metadata": {},
   "source": [
    "## PUMAs by YEAR"
   ]
  },
  {
   "cell_type": "code",
   "execution_count": 18,
   "id": "cd738501",
   "metadata": {},
   "outputs": [
    {
     "data": {
      "text/plain": [
       "{'2017', '2018', '2019', '2020', '2021'}"
      ]
     },
     "execution_count": 18,
     "metadata": {},
     "output_type": "execute_result"
    }
   ],
   "source": [
    "set(df['YEAR'])"
   ]
  },
  {
   "cell_type": "code",
   "execution_count": 19,
   "id": "f9d0e8c8",
   "metadata": {},
   "outputs": [
    {
     "name": "stdout",
     "output_type": "stream",
     "text": [
      "When 'YEAR' =  2019, the ACS data contain 92 unique PUMA codes.\n",
      "When 'YEAR' =  2020, the ACS data contain 92 unique PUMA codes.\n",
      "When 'YEAR' =  2021, the ACS data contain 92 unique PUMA codes.\n",
      "When 'YEAR' =  2017, the ACS data contain 92 unique PUMA codes.\n",
      "When 'YEAR' =  2018, the ACS data contain 92 unique PUMA codes.\n"
     ]
    }
   ],
   "source": [
    "for yr in set(df['YEAR']):\n",
    "    print(\"When 'YEAR' = \",str(yr) + \", the ACS data contain\",\\\n",
    "          str(len(df['PUMA'][df['YEAR'] == yr].value_counts())),\"unique PUMA codes.\")"
   ]
  },
  {
   "cell_type": "code",
   "execution_count": 20,
   "id": "79e65a7c",
   "metadata": {},
   "outputs": [],
   "source": [
    "PUMA_year = df.groupby('YEAR')['PUMA'].value_counts().to_frame()"
   ]
  },
  {
   "cell_type": "code",
   "execution_count": 21,
   "id": "8ea34d64",
   "metadata": {},
   "outputs": [],
   "source": [
    "PUMA_year = PUMA_year.rename(columns = {\"PUMA\":\"counts\"}).reset_index()"
   ]
  },
  {
   "cell_type": "code",
   "execution_count": 22,
   "id": "1d6f6bc3",
   "metadata": {},
   "outputs": [
    {
     "data": {
      "text/html": [
       "<div>\n",
       "<style scoped>\n",
       "    .dataframe tbody tr th:only-of-type {\n",
       "        vertical-align: middle;\n",
       "    }\n",
       "\n",
       "    .dataframe tbody tr th {\n",
       "        vertical-align: top;\n",
       "    }\n",
       "\n",
       "    .dataframe thead th {\n",
       "        text-align: right;\n",
       "    }\n",
       "</style>\n",
       "<table border=\"1\" class=\"dataframe\">\n",
       "  <thead>\n",
       "    <tr style=\"text-align: right;\">\n",
       "      <th></th>\n",
       "      <th>YEAR</th>\n",
       "      <th>PUMA</th>\n",
       "      <th>counts</th>\n",
       "    </tr>\n",
       "  </thead>\n",
       "  <tbody>\n",
       "    <tr>\n",
       "      <th>0</th>\n",
       "      <td>2017</td>\n",
       "      <td>03800</td>\n",
       "      <td>2794</td>\n",
       "    </tr>\n",
       "    <tr>\n",
       "      <th>1</th>\n",
       "      <td>2017</td>\n",
       "      <td>00300</td>\n",
       "      <td>2761</td>\n",
       "    </tr>\n",
       "    <tr>\n",
       "      <th>2</th>\n",
       "      <td>2017</td>\n",
       "      <td>01300</td>\n",
       "      <td>2585</td>\n",
       "    </tr>\n",
       "    <tr>\n",
       "      <th>3</th>\n",
       "      <td>2017</td>\n",
       "      <td>00900</td>\n",
       "      <td>2503</td>\n",
       "    </tr>\n",
       "    <tr>\n",
       "      <th>4</th>\n",
       "      <td>2017</td>\n",
       "      <td>01600</td>\n",
       "      <td>2361</td>\n",
       "    </tr>\n",
       "  </tbody>\n",
       "</table>\n",
       "</div>"
      ],
      "text/plain": [
       "   YEAR   PUMA  counts\n",
       "0  2017  03800    2794\n",
       "1  2017  00300    2761\n",
       "2  2017  01300    2585\n",
       "3  2017  00900    2503\n",
       "4  2017  01600    2361"
      ]
     },
     "execution_count": 22,
     "metadata": {},
     "output_type": "execute_result"
    }
   ],
   "source": [
    "## Use this to merge with the PUMA2010 data\n",
    "PUMA_year.head()"
   ]
  },
  {
   "cell_type": "markdown",
   "id": "647203d3",
   "metadata": {},
   "source": [
    "# Import PUMA2010 Master File\n",
    "\n",
    "- Web scrapped from https://www2.census.gov/geo/pdfs/reference/puma/2010_PUMA_Names.pdf"
   ]
  },
  {
   "cell_type": "code",
   "execution_count": 23,
   "id": "f65b9afd",
   "metadata": {},
   "outputs": [],
   "source": [
    "PUMA2010 = pd.read_csv('PUMA2010.txt', delimiter = \"\\t\")"
   ]
  },
  {
   "cell_type": "code",
   "execution_count": 24,
   "id": "86dbbe21",
   "metadata": {},
   "outputs": [
    {
     "data": {
      "text/html": [
       "<div>\n",
       "<style scoped>\n",
       "    .dataframe tbody tr th:only-of-type {\n",
       "        vertical-align: middle;\n",
       "    }\n",
       "\n",
       "    .dataframe tbody tr th {\n",
       "        vertical-align: top;\n",
       "    }\n",
       "\n",
       "    .dataframe thead th {\n",
       "        text-align: right;\n",
       "    }\n",
       "</style>\n",
       "<table border=\"1\" class=\"dataframe\">\n",
       "  <thead>\n",
       "    <tr style=\"text-align: right;\">\n",
       "      <th></th>\n",
       "      <th>2010 PUMA Names File</th>\n",
       "    </tr>\n",
       "  </thead>\n",
       "  <tbody>\n",
       "    <tr>\n",
       "      <th>0</th>\n",
       "      <td>STATEFP PUMA5CE PUMA NAME</td>\n",
       "    </tr>\n",
       "    <tr>\n",
       "      <th>1</th>\n",
       "      <td>01 00100 Lauderdale, Colbert, Franklin &amp; Mario...</td>\n",
       "    </tr>\n",
       "    <tr>\n",
       "      <th>2</th>\n",
       "      <td>01 00200 Limestone &amp; Madison (Outer) Counties-...</td>\n",
       "    </tr>\n",
       "    <tr>\n",
       "      <th>3</th>\n",
       "      <td>01 00301 Huntsville (North) &amp; Madison (East) C...</td>\n",
       "    </tr>\n",
       "    <tr>\n",
       "      <th>4</th>\n",
       "      <td>01 00302 Huntsville City (Central &amp; South)</td>\n",
       "    </tr>\n",
       "  </tbody>\n",
       "</table>\n",
       "</div>"
      ],
      "text/plain": [
       "                                2010 PUMA Names File\n",
       "0                          STATEFP PUMA5CE PUMA NAME\n",
       "1  01 00100 Lauderdale, Colbert, Franklin & Mario...\n",
       "2  01 00200 Limestone & Madison (Outer) Counties-...\n",
       "3  01 00301 Huntsville (North) & Madison (East) C...\n",
       "4         01 00302 Huntsville City (Central & South)"
      ]
     },
     "execution_count": 24,
     "metadata": {},
     "output_type": "execute_result"
    }
   ],
   "source": [
    "PUMA2010.head()"
   ]
  },
  {
   "cell_type": "code",
   "execution_count": 25,
   "id": "507d3e2b",
   "metadata": {},
   "outputs": [
    {
     "data": {
      "text/plain": [
       "(2427, 1)"
      ]
     },
     "execution_count": 25,
     "metadata": {},
     "output_type": "execute_result"
    }
   ],
   "source": [
    "PUMA2010.shape"
   ]
  },
  {
   "cell_type": "code",
   "execution_count": 26,
   "id": "70485a18",
   "metadata": {},
   "outputs": [
    {
     "name": "stdout",
     "output_type": "stream",
     "text": [
      "<class 'pandas.core.frame.DataFrame'>\n",
      "RangeIndex: 2427 entries, 0 to 2426\n",
      "Data columns (total 1 columns):\n",
      " #   Column                Non-Null Count  Dtype \n",
      "---  ------                --------------  ----- \n",
      " 0   2010 PUMA Names File  2427 non-null   object\n",
      "dtypes: object(1)\n",
      "memory usage: 19.1+ KB\n"
     ]
    }
   ],
   "source": [
    "PUMA2010.info()"
   ]
  },
  {
   "cell_type": "markdown",
   "id": "c397df50",
   "metadata": {},
   "source": [
    "### Subset Pennsylvania ('42') "
   ]
  },
  {
   "cell_type": "code",
   "execution_count": 27,
   "id": "c664596b",
   "metadata": {},
   "outputs": [],
   "source": [
    "# Subset rows that starts with '42'\n",
    "PA_PUMA2010 = PUMA2010[PUMA2010['2010 PUMA Names File'].str.startswith('42')]"
   ]
  },
  {
   "cell_type": "code",
   "execution_count": 28,
   "id": "a3c6ad27",
   "metadata": {},
   "outputs": [
    {
     "data": {
      "text/plain": [
       "Index(['2010 PUMA Names File'], dtype='object')"
      ]
     },
     "execution_count": 28,
     "metadata": {},
     "output_type": "execute_result"
    }
   ],
   "source": [
    "PA_PUMA2010.columns"
   ]
  },
  {
   "cell_type": "markdown",
   "id": "e5eac53c",
   "metadata": {},
   "source": [
    "### Split all-in-one strings"
   ]
  },
  {
   "cell_type": "code",
   "execution_count": 29,
   "id": "fe24b898",
   "metadata": {},
   "outputs": [
    {
     "data": {
      "text/plain": [
       "1793    [42, 00101, Erie, City,, Lawrence, Park, Towns...\n",
       "1794                   [42, 00102, Erie, County, (Outer)]\n",
       "1795           [42, 00200, Crawford, &, Warren, Counties]\n",
       "1796    [42, 00300, Clearfield,, McKean,, Elk,, Potter...\n",
       "1797    [42, 00400, Bradford,, Tioga, &, Sullivan, Cou...\n",
       "                              ...                        \n",
       "1882    [42, 03702, Franklin, County, (Outside, Washin...\n",
       "1883    [42, 03800, Somerset,, Bedford, &, Fulton, Cou...\n",
       "1884                         [42, 03900, Fayette, County]\n",
       "1885    [42, 04001, Washington, County, (North)--Washi...\n",
       "1886    [42, 04002, Washington, (South), &, Greene, Co...\n",
       "Name: 2010 PUMA Names File, Length: 92, dtype: object"
      ]
     },
     "execution_count": 29,
     "metadata": {},
     "output_type": "execute_result"
    }
   ],
   "source": [
    "PA_PUMA2010['2010 PUMA Names File'].str.split(' ')"
   ]
  },
  {
   "cell_type": "markdown",
   "id": "9059aa9f",
   "metadata": {},
   "source": [
    "### Construct PUMAs and NAME from strings\n",
    "\n",
    "- R `strsplit( ,split = ' ')` and `unlist()` equivalent"
   ]
  },
  {
   "cell_type": "code",
   "execution_count": 30,
   "id": "c4459342",
   "metadata": {},
   "outputs": [],
   "source": [
    "PUMAS = []\n",
    "NAME = []\n",
    "for row in PA_PUMA2010['2010 PUMA Names File']:\n",
    "    puma = row.split(' ')[1]\n",
    "    name = row.split(' ')[2:]\n",
    "    PUMAS.append(puma)\n",
    "    NAME.append(' '.join(map(str, name)))"
   ]
  },
  {
   "cell_type": "code",
   "execution_count": 31,
   "id": "80dbb49a",
   "metadata": {},
   "outputs": [
    {
     "data": {
      "text/plain": [
       "['00101',\n",
       " '00102',\n",
       " '00200',\n",
       " '00300',\n",
       " '00400',\n",
       " '00500',\n",
       " '00600',\n",
       " '00701',\n",
       " '00702',\n",
       " '00801']"
      ]
     },
     "execution_count": 31,
     "metadata": {},
     "output_type": "execute_result"
    }
   ],
   "source": [
    "PUMAS[0:10] # looks good"
   ]
  },
  {
   "cell_type": "code",
   "execution_count": 32,
   "id": "eee639ab",
   "metadata": {},
   "outputs": [
    {
     "data": {
      "text/plain": [
       "['Erie City, Lawrence Park Township & Wesleyville Borough',\n",
       " 'Erie County (Outer)',\n",
       " 'Crawford & Warren Counties',\n",
       " 'Clearfield, McKean, Elk, Potter & Cameron Counties',\n",
       " 'Bradford, Tioga & Sullivan Counties',\n",
       " 'Pike, Wayne & Susquehanna Counties',\n",
       " 'Monroe County',\n",
       " 'Lackawanna County--Scranton City, Dunmore, Old Forge, Taylor & Moosic Boroughs',\n",
       " 'Lackawanna (Outside Greater Scranton City) & Wyoming Counties',\n",
       " 'Luzerne County (East)--Kingston Borough']"
      ]
     },
     "execution_count": 32,
     "metadata": {},
     "output_type": "execute_result"
    }
   ],
   "source": [
    "NAME[0:10] # looks good"
   ]
  },
  {
   "cell_type": "code",
   "execution_count": 33,
   "id": "f1824049",
   "metadata": {},
   "outputs": [
    {
     "name": "stderr",
     "output_type": "stream",
     "text": [
      "<ipython-input-33-75e0076a7a2c>:1: SettingWithCopyWarning: \n",
      "A value is trying to be set on a copy of a slice from a DataFrame.\n",
      "Try using .loc[row_indexer,col_indexer] = value instead\n",
      "\n",
      "See the caveats in the documentation: https://pandas.pydata.org/pandas-docs/stable/user_guide/indexing.html#returning-a-view-versus-a-copy\n",
      "  PA_PUMA2010['PUMA'] = PUMAS\n",
      "<ipython-input-33-75e0076a7a2c>:2: SettingWithCopyWarning: \n",
      "A value is trying to be set on a copy of a slice from a DataFrame.\n",
      "Try using .loc[row_indexer,col_indexer] = value instead\n",
      "\n",
      "See the caveats in the documentation: https://pandas.pydata.org/pandas-docs/stable/user_guide/indexing.html#returning-a-view-versus-a-copy\n",
      "  PA_PUMA2010['NAME'] = NAME\n"
     ]
    },
    {
     "data": {
      "text/html": [
       "<div>\n",
       "<style scoped>\n",
       "    .dataframe tbody tr th:only-of-type {\n",
       "        vertical-align: middle;\n",
       "    }\n",
       "\n",
       "    .dataframe tbody tr th {\n",
       "        vertical-align: top;\n",
       "    }\n",
       "\n",
       "    .dataframe thead th {\n",
       "        text-align: right;\n",
       "    }\n",
       "</style>\n",
       "<table border=\"1\" class=\"dataframe\">\n",
       "  <thead>\n",
       "    <tr style=\"text-align: right;\">\n",
       "      <th></th>\n",
       "      <th>PUMA</th>\n",
       "      <th>NAME</th>\n",
       "    </tr>\n",
       "  </thead>\n",
       "  <tbody>\n",
       "    <tr>\n",
       "      <th>1793</th>\n",
       "      <td>00101</td>\n",
       "      <td>Erie City, Lawrence Park Township &amp; Wesleyvill...</td>\n",
       "    </tr>\n",
       "    <tr>\n",
       "      <th>1794</th>\n",
       "      <td>00102</td>\n",
       "      <td>Erie County (Outer)</td>\n",
       "    </tr>\n",
       "    <tr>\n",
       "      <th>1795</th>\n",
       "      <td>00200</td>\n",
       "      <td>Crawford &amp; Warren Counties</td>\n",
       "    </tr>\n",
       "    <tr>\n",
       "      <th>1796</th>\n",
       "      <td>00300</td>\n",
       "      <td>Clearfield, McKean, Elk, Potter &amp; Cameron Coun...</td>\n",
       "    </tr>\n",
       "    <tr>\n",
       "      <th>1797</th>\n",
       "      <td>00400</td>\n",
       "      <td>Bradford, Tioga &amp; Sullivan Counties</td>\n",
       "    </tr>\n",
       "  </tbody>\n",
       "</table>\n",
       "</div>"
      ],
      "text/plain": [
       "       PUMA                                               NAME\n",
       "1793  00101  Erie City, Lawrence Park Township & Wesleyvill...\n",
       "1794  00102                                Erie County (Outer)\n",
       "1795  00200                         Crawford & Warren Counties\n",
       "1796  00300  Clearfield, McKean, Elk, Potter & Cameron Coun...\n",
       "1797  00400                Bradford, Tioga & Sullivan Counties"
      ]
     },
     "execution_count": 33,
     "metadata": {},
     "output_type": "execute_result"
    }
   ],
   "source": [
    "PA_PUMA2010['PUMA'] = PUMAS\n",
    "PA_PUMA2010['NAME'] = NAME\n",
    "PA_PUMA2010 = PA_PUMA2010.drop('2010 PUMA Names File', axis = 1) # Drop the all-in-one raw column\n",
    "PA_PUMA2010.head()"
   ]
  },
  {
   "cell_type": "code",
   "execution_count": 34,
   "id": "4e2d8186",
   "metadata": {},
   "outputs": [
    {
     "data": {
      "text/plain": [
       "(92, 2)"
      ]
     },
     "execution_count": 34,
     "metadata": {},
     "output_type": "execute_result"
    }
   ],
   "source": [
    "PA_PUMA2010.shape"
   ]
  },
  {
   "cell_type": "code",
   "execution_count": 35,
   "id": "10a032e2",
   "metadata": {},
   "outputs": [],
   "source": [
    "PA_PUMA2010 = PA_PUMA2010.reset_index(drop = True)"
   ]
  },
  {
   "cell_type": "code",
   "execution_count": 37,
   "id": "04bde57f",
   "metadata": {},
   "outputs": [],
   "source": [
    "from IPython.display import display, HTML"
   ]
  },
  {
   "cell_type": "code",
   "execution_count": 38,
   "id": "65917a7c",
   "metadata": {},
   "outputs": [
    {
     "data": {
      "text/html": [
       "<table border=\"1\" class=\"dataframe\">\n",
       "  <thead>\n",
       "    <tr style=\"text-align: right;\">\n",
       "      <th></th>\n",
       "      <th>PUMA</th>\n",
       "      <th>NAME</th>\n",
       "    </tr>\n",
       "  </thead>\n",
       "  <tbody>\n",
       "    <tr>\n",
       "      <th>0</th>\n",
       "      <td>00101</td>\n",
       "      <td>Erie City, Lawrence Park Township &amp; Wesleyville Borough</td>\n",
       "    </tr>\n",
       "    <tr>\n",
       "      <th>1</th>\n",
       "      <td>00102</td>\n",
       "      <td>Erie County (Outer)</td>\n",
       "    </tr>\n",
       "    <tr>\n",
       "      <th>2</th>\n",
       "      <td>00200</td>\n",
       "      <td>Crawford &amp; Warren Counties</td>\n",
       "    </tr>\n",
       "    <tr>\n",
       "      <th>3</th>\n",
       "      <td>00300</td>\n",
       "      <td>Clearfield, McKean, Elk, Potter &amp; Cameron Counties</td>\n",
       "    </tr>\n",
       "    <tr>\n",
       "      <th>4</th>\n",
       "      <td>00400</td>\n",
       "      <td>Bradford, Tioga &amp; Sullivan Counties</td>\n",
       "    </tr>\n",
       "    <tr>\n",
       "      <th>5</th>\n",
       "      <td>00500</td>\n",
       "      <td>Pike, Wayne &amp; Susquehanna Counties</td>\n",
       "    </tr>\n",
       "    <tr>\n",
       "      <th>6</th>\n",
       "      <td>00600</td>\n",
       "      <td>Monroe County</td>\n",
       "    </tr>\n",
       "    <tr>\n",
       "      <th>7</th>\n",
       "      <td>00701</td>\n",
       "      <td>Lackawanna County--Scranton City, Dunmore, Old Forge, Taylor &amp; Moosic Boroughs</td>\n",
       "    </tr>\n",
       "    <tr>\n",
       "      <th>8</th>\n",
       "      <td>00702</td>\n",
       "      <td>Lackawanna (Outside Greater Scranton City) &amp; Wyoming Counties</td>\n",
       "    </tr>\n",
       "    <tr>\n",
       "      <th>9</th>\n",
       "      <td>00801</td>\n",
       "      <td>Luzerne County (East)--Kingston Borough</td>\n",
       "    </tr>\n",
       "    <tr>\n",
       "      <th>10</th>\n",
       "      <td>00802</td>\n",
       "      <td>Luzerne County (South Central)--Wilkes-Barre &amp; Hazleton Cities</td>\n",
       "    </tr>\n",
       "    <tr>\n",
       "      <th>11</th>\n",
       "      <td>00803</td>\n",
       "      <td>Columbia &amp; Luzerne (West) Counties--Bloomsburg Town &amp; Berwick Borough</td>\n",
       "    </tr>\n",
       "    <tr>\n",
       "      <th>12</th>\n",
       "      <td>00900</td>\n",
       "      <td>Lycoming &amp; Clinton Counties</td>\n",
       "    </tr>\n",
       "    <tr>\n",
       "      <th>13</th>\n",
       "      <td>01000</td>\n",
       "      <td>Northumberland &amp; Montour Counties</td>\n",
       "    </tr>\n",
       "    <tr>\n",
       "      <th>14</th>\n",
       "      <td>01100</td>\n",
       "      <td>Mifflin, Union, Snyder &amp; Juniata Counties</td>\n",
       "    </tr>\n",
       "    <tr>\n",
       "      <th>15</th>\n",
       "      <td>01200</td>\n",
       "      <td>Centre County</td>\n",
       "    </tr>\n",
       "    <tr>\n",
       "      <th>16</th>\n",
       "      <td>01300</td>\n",
       "      <td>Venango, Jefferson, Clarion &amp; Forest Counties</td>\n",
       "    </tr>\n",
       "    <tr>\n",
       "      <th>17</th>\n",
       "      <td>01400</td>\n",
       "      <td>Mercer County</td>\n",
       "    </tr>\n",
       "    <tr>\n",
       "      <th>18</th>\n",
       "      <td>01501</td>\n",
       "      <td>Lawrence &amp; Beaver (North) Counties--New Castle City</td>\n",
       "    </tr>\n",
       "    <tr>\n",
       "      <th>19</th>\n",
       "      <td>01502</td>\n",
       "      <td>Beaver County (South)</td>\n",
       "    </tr>\n",
       "    <tr>\n",
       "      <th>20</th>\n",
       "      <td>01600</td>\n",
       "      <td>Butler County</td>\n",
       "    </tr>\n",
       "    <tr>\n",
       "      <th>21</th>\n",
       "      <td>01701</td>\n",
       "      <td>Pittsburgh City (North)</td>\n",
       "    </tr>\n",
       "    <tr>\n",
       "      <th>22</th>\n",
       "      <td>01702</td>\n",
       "      <td>Pittsburgh City (South)</td>\n",
       "    </tr>\n",
       "    <tr>\n",
       "      <th>23</th>\n",
       "      <td>01801</td>\n",
       "      <td>Allegheny County (West)</td>\n",
       "    </tr>\n",
       "    <tr>\n",
       "      <th>24</th>\n",
       "      <td>01802</td>\n",
       "      <td>Allegheny County (North)--Franklin Park Borough &amp; Allison Park</td>\n",
       "    </tr>\n",
       "    <tr>\n",
       "      <th>25</th>\n",
       "      <td>01803</td>\n",
       "      <td>Allegheny County (North Central)</td>\n",
       "    </tr>\n",
       "    <tr>\n",
       "      <th>26</th>\n",
       "      <td>01804</td>\n",
       "      <td>Allegheny County (East)--Monroeville Municipality, Plum &amp; Wilkinsburg Boroughs</td>\n",
       "    </tr>\n",
       "    <tr>\n",
       "      <th>27</th>\n",
       "      <td>01805</td>\n",
       "      <td>Allegheny County (Southeast)--West Mifflin Borough, McKeesport City &amp; Munhall Borough</td>\n",
       "    </tr>\n",
       "    <tr>\n",
       "      <th>28</th>\n",
       "      <td>01806</td>\n",
       "      <td>Allegheny County (South Central)--Baldwin &amp; Whitehall Boroughs</td>\n",
       "    </tr>\n",
       "    <tr>\n",
       "      <th>29</th>\n",
       "      <td>01807</td>\n",
       "      <td>Allegheny County (South)--Bethel Park Municipality &amp; Jefferson Hills Borough</td>\n",
       "    </tr>\n",
       "    <tr>\n",
       "      <th>30</th>\n",
       "      <td>01900</td>\n",
       "      <td>Indiana &amp; Armstrong Counties</td>\n",
       "    </tr>\n",
       "    <tr>\n",
       "      <th>31</th>\n",
       "      <td>02001</td>\n",
       "      <td>Westmoreland County (Northwest)--Murrysville Municipality &amp; New Kensington City</td>\n",
       "    </tr>\n",
       "    <tr>\n",
       "      <th>32</th>\n",
       "      <td>02002</td>\n",
       "      <td>Westmoreland County (Southwest)--Greensburg City</td>\n",
       "    </tr>\n",
       "    <tr>\n",
       "      <th>33</th>\n",
       "      <td>02003</td>\n",
       "      <td>Westmoreland County (East)</td>\n",
       "    </tr>\n",
       "    <tr>\n",
       "      <th>34</th>\n",
       "      <td>02100</td>\n",
       "      <td>Cambria County</td>\n",
       "    </tr>\n",
       "    <tr>\n",
       "      <th>35</th>\n",
       "      <td>02200</td>\n",
       "      <td>Blair &amp; Huntingdon Counties--Altoona City</td>\n",
       "    </tr>\n",
       "    <tr>\n",
       "      <th>36</th>\n",
       "      <td>02301</td>\n",
       "      <td>Cumberland (West) &amp; Perry Counties--Carlisle Borough</td>\n",
       "    </tr>\n",
       "    <tr>\n",
       "      <th>37</th>\n",
       "      <td>02302</td>\n",
       "      <td>Cumberland County (East)</td>\n",
       "    </tr>\n",
       "    <tr>\n",
       "      <th>38</th>\n",
       "      <td>02401</td>\n",
       "      <td>Dauphin County (Central)--Harrisburg City &amp; Colonial Park</td>\n",
       "    </tr>\n",
       "    <tr>\n",
       "      <th>39</th>\n",
       "      <td>02402</td>\n",
       "      <td>Dauphin County (Outer)--Hershey</td>\n",
       "    </tr>\n",
       "    <tr>\n",
       "      <th>40</th>\n",
       "      <td>02500</td>\n",
       "      <td>Lebanon County</td>\n",
       "    </tr>\n",
       "    <tr>\n",
       "      <th>41</th>\n",
       "      <td>02600</td>\n",
       "      <td>Schuylkill County</td>\n",
       "    </tr>\n",
       "    <tr>\n",
       "      <th>42</th>\n",
       "      <td>02701</td>\n",
       "      <td>Berks County (Northwest)--Wyomissing Borough</td>\n",
       "    </tr>\n",
       "    <tr>\n",
       "      <th>43</th>\n",
       "      <td>02702</td>\n",
       "      <td>Berks County (Southwest)--Reading City</td>\n",
       "    </tr>\n",
       "    <tr>\n",
       "      <th>44</th>\n",
       "      <td>02703</td>\n",
       "      <td>Berks County (East)</td>\n",
       "    </tr>\n",
       "    <tr>\n",
       "      <th>45</th>\n",
       "      <td>02801</td>\n",
       "      <td>Carbon &amp; Lehigh (North) Counties</td>\n",
       "    </tr>\n",
       "    <tr>\n",
       "      <th>46</th>\n",
       "      <td>02802</td>\n",
       "      <td>Lehigh County (South--Outside Allentown &amp; Bethlehem Cities)--Emmaus Borough</td>\n",
       "    </tr>\n",
       "    <tr>\n",
       "      <th>47</th>\n",
       "      <td>02803</td>\n",
       "      <td>Allentown City</td>\n",
       "    </tr>\n",
       "    <tr>\n",
       "      <th>48</th>\n",
       "      <td>02901</td>\n",
       "      <td>Northampton (South) &amp; Lehigh (East) Counties--Bethlehem (East) &amp; Easton Cities</td>\n",
       "    </tr>\n",
       "    <tr>\n",
       "      <th>49</th>\n",
       "      <td>02902</td>\n",
       "      <td>Northampton County (North)</td>\n",
       "    </tr>\n",
       "    <tr>\n",
       "      <th>50</th>\n",
       "      <td>03001</td>\n",
       "      <td>Bucks County (North)</td>\n",
       "    </tr>\n",
       "    <tr>\n",
       "      <th>51</th>\n",
       "      <td>03002</td>\n",
       "      <td>Bucks County (Central)</td>\n",
       "    </tr>\n",
       "    <tr>\n",
       "      <th>52</th>\n",
       "      <td>03003</td>\n",
       "      <td>Bucks County (Southeast)--Levittown</td>\n",
       "    </tr>\n",
       "    <tr>\n",
       "      <th>53</th>\n",
       "      <td>03004</td>\n",
       "      <td>Bucks County (Southwest)</td>\n",
       "    </tr>\n",
       "    <tr>\n",
       "      <th>54</th>\n",
       "      <td>03101</td>\n",
       "      <td>Montgomery County (Northwest)--Pottstown Borough</td>\n",
       "    </tr>\n",
       "    <tr>\n",
       "      <th>55</th>\n",
       "      <td>03102</td>\n",
       "      <td>Montgomery County (Northeast)--Lansdale Borough</td>\n",
       "    </tr>\n",
       "    <tr>\n",
       "      <th>56</th>\n",
       "      <td>03103</td>\n",
       "      <td>Montgomery County (Southwest)--King of Prussia &amp; Ardmore (East)</td>\n",
       "    </tr>\n",
       "    <tr>\n",
       "      <th>57</th>\n",
       "      <td>03104</td>\n",
       "      <td>Montgomery County (Central)--Norristown Borough</td>\n",
       "    </tr>\n",
       "    <tr>\n",
       "      <th>58</th>\n",
       "      <td>03105</td>\n",
       "      <td>Montgomery County (Southeast)--Willow Grove, Horsham &amp; Montgomeryville</td>\n",
       "    </tr>\n",
       "    <tr>\n",
       "      <th>59</th>\n",
       "      <td>03106</td>\n",
       "      <td>Montgomery County (South Central)</td>\n",
       "    </tr>\n",
       "    <tr>\n",
       "      <th>60</th>\n",
       "      <td>03201</td>\n",
       "      <td>Philadelphia City (Far Northeast)</td>\n",
       "    </tr>\n",
       "    <tr>\n",
       "      <th>61</th>\n",
       "      <td>03202</td>\n",
       "      <td>Philadelphia City (Near Northeast-West)</td>\n",
       "    </tr>\n",
       "    <tr>\n",
       "      <th>62</th>\n",
       "      <td>03203</td>\n",
       "      <td>Philadelphia City (Near Northeast-East)</td>\n",
       "    </tr>\n",
       "    <tr>\n",
       "      <th>63</th>\n",
       "      <td>03204</td>\n",
       "      <td>Philadelphia City (North)</td>\n",
       "    </tr>\n",
       "    <tr>\n",
       "      <th>64</th>\n",
       "      <td>03205</td>\n",
       "      <td>Philadelphia City (East)</td>\n",
       "    </tr>\n",
       "    <tr>\n",
       "      <th>65</th>\n",
       "      <td>03206</td>\n",
       "      <td>Philadelphia City (Northwest)</td>\n",
       "    </tr>\n",
       "    <tr>\n",
       "      <th>66</th>\n",
       "      <td>03207</td>\n",
       "      <td>Philadelphia City (Central)</td>\n",
       "    </tr>\n",
       "    <tr>\n",
       "      <th>67</th>\n",
       "      <td>03208</td>\n",
       "      <td>Philadelphia City (West)</td>\n",
       "    </tr>\n",
       "    <tr>\n",
       "      <th>68</th>\n",
       "      <td>03209</td>\n",
       "      <td>Philadelphia City (Center City)</td>\n",
       "    </tr>\n",
       "    <tr>\n",
       "      <th>69</th>\n",
       "      <td>03210</td>\n",
       "      <td>Philadelphia City (Southwest)</td>\n",
       "    </tr>\n",
       "    <tr>\n",
       "      <th>70</th>\n",
       "      <td>03211</td>\n",
       "      <td>Philadelphia City (Southeast)</td>\n",
       "    </tr>\n",
       "    <tr>\n",
       "      <th>71</th>\n",
       "      <td>03301</td>\n",
       "      <td>Delaware County (North)--Broomall &amp; Ardmore (West)</td>\n",
       "    </tr>\n",
       "    <tr>\n",
       "      <th>72</th>\n",
       "      <td>03302</td>\n",
       "      <td>Delaware County (East)--Yeadon, Darby, Lansdowne Boroughs &amp; Drexel Hill</td>\n",
       "    </tr>\n",
       "    <tr>\n",
       "      <th>73</th>\n",
       "      <td>03303</td>\n",
       "      <td>Delaware County (Southeast)--Chester City</td>\n",
       "    </tr>\n",
       "    <tr>\n",
       "      <th>74</th>\n",
       "      <td>03304</td>\n",
       "      <td>Delaware County (West)</td>\n",
       "    </tr>\n",
       "    <tr>\n",
       "      <th>75</th>\n",
       "      <td>03401</td>\n",
       "      <td>Chester County (North)--Phoenixville Borough</td>\n",
       "    </tr>\n",
       "    <tr>\n",
       "      <th>76</th>\n",
       "      <td>03402</td>\n",
       "      <td>Chester County (East Central)--West Chester Borough</td>\n",
       "    </tr>\n",
       "    <tr>\n",
       "      <th>77</th>\n",
       "      <td>03403</td>\n",
       "      <td>Chester County (West Central)--Coatesville City</td>\n",
       "    </tr>\n",
       "    <tr>\n",
       "      <th>78</th>\n",
       "      <td>03404</td>\n",
       "      <td>Chester County (South)</td>\n",
       "    </tr>\n",
       "    <tr>\n",
       "      <th>79</th>\n",
       "      <td>03501</td>\n",
       "      <td>Lancaster County--Lancaster City, East Lampeter, Lancaster &amp; West Lampeter Townships</td>\n",
       "    </tr>\n",
       "    <tr>\n",
       "      <th>80</th>\n",
       "      <td>03502</td>\n",
       "      <td>Lancaster County (Northwest)--Elizabethtown Borough</td>\n",
       "    </tr>\n",
       "    <tr>\n",
       "      <th>81</th>\n",
       "      <td>03503</td>\n",
       "      <td>Lancaster County (East)--Ephrata Borough</td>\n",
       "    </tr>\n",
       "    <tr>\n",
       "      <th>82</th>\n",
       "      <td>03504</td>\n",
       "      <td>Lancaster County (Southwest)--Columbia Borough</td>\n",
       "    </tr>\n",
       "    <tr>\n",
       "      <th>83</th>\n",
       "      <td>03601</td>\n",
       "      <td>York County (Central)--York City &amp; Shiloh</td>\n",
       "    </tr>\n",
       "    <tr>\n",
       "      <th>84</th>\n",
       "      <td>03602</td>\n",
       "      <td>York County (North)--Weigelstown</td>\n",
       "    </tr>\n",
       "    <tr>\n",
       "      <th>85</th>\n",
       "      <td>03603</td>\n",
       "      <td>York County (South)</td>\n",
       "    </tr>\n",
       "    <tr>\n",
       "      <th>86</th>\n",
       "      <td>03701</td>\n",
       "      <td>Adams &amp; Franklin (Southeast) Counties</td>\n",
       "    </tr>\n",
       "    <tr>\n",
       "      <th>87</th>\n",
       "      <td>03702</td>\n",
       "      <td>Franklin County (Outside Washington Township &amp; Waynesboro Borough)</td>\n",
       "    </tr>\n",
       "    <tr>\n",
       "      <th>88</th>\n",
       "      <td>03800</td>\n",
       "      <td>Somerset, Bedford &amp; Fulton Counties</td>\n",
       "    </tr>\n",
       "    <tr>\n",
       "      <th>89</th>\n",
       "      <td>03900</td>\n",
       "      <td>Fayette County</td>\n",
       "    </tr>\n",
       "    <tr>\n",
       "      <th>90</th>\n",
       "      <td>04001</td>\n",
       "      <td>Washington County (North)--Washington City</td>\n",
       "    </tr>\n",
       "    <tr>\n",
       "      <th>91</th>\n",
       "      <td>04002</td>\n",
       "      <td>Washington (South) &amp; Greene Counties</td>\n",
       "    </tr>\n",
       "  </tbody>\n",
       "</table>"
      ],
      "text/plain": [
       "<IPython.core.display.HTML object>"
      ]
     },
     "metadata": {},
     "output_type": "display_data"
    }
   ],
   "source": [
    "display(HTML(PA_PUMA2010.to_html()))"
   ]
  },
  {
   "cell_type": "markdown",
   "id": "4c5e410b",
   "metadata": {},
   "source": [
    "### Save `PA_PUMA2010.csv`"
   ]
  },
  {
   "cell_type": "code",
   "execution_count": 39,
   "id": "1e9394b8",
   "metadata": {},
   "outputs": [],
   "source": [
    "PA_PUMA2010['PUMA'] = PA_PUMA2010['PUMA'].str.zfill(5) # doesn't help to preserve leading 0\n",
    "PA_PUMA2010.to_csv('PA_PUMA2010.csv', index = False) # Save data, when import, needs zfill(5)"
   ]
  },
  {
   "cell_type": "markdown",
   "id": "9be3c170",
   "metadata": {},
   "source": [
    "# Link `ACS` to `PUMA`"
   ]
  },
  {
   "cell_type": "code",
   "execution_count": 40,
   "id": "96b513a9",
   "metadata": {},
   "outputs": [],
   "source": [
    "ACS_PUMA_crosswalk = df.merge(PA_PUMA2010, on = 'PUMA') # semi join works as left-join"
   ]
  },
  {
   "cell_type": "code",
   "execution_count": 41,
   "id": "a7ccef36",
   "metadata": {},
   "outputs": [],
   "source": [
    "ACS_PUMA_crosswalk = ACS_PUMA_crosswalk.drop('SERIALNO', axis = 1)"
   ]
  },
  {
   "cell_type": "code",
   "execution_count": 42,
   "id": "9fe013fd",
   "metadata": {},
   "outputs": [
    {
     "data": {
      "text/html": [
       "<div>\n",
       "<style scoped>\n",
       "    .dataframe tbody tr th:only-of-type {\n",
       "        vertical-align: middle;\n",
       "    }\n",
       "\n",
       "    .dataframe tbody tr th {\n",
       "        vertical-align: top;\n",
       "    }\n",
       "\n",
       "    .dataframe thead th {\n",
       "        text-align: right;\n",
       "    }\n",
       "</style>\n",
       "<table border=\"1\" class=\"dataframe\">\n",
       "  <thead>\n",
       "    <tr style=\"text-align: right;\">\n",
       "      <th></th>\n",
       "      <th>PUMA</th>\n",
       "      <th>ST</th>\n",
       "      <th>PWGTP</th>\n",
       "      <th>AGEP</th>\n",
       "      <th>JWTRNS</th>\n",
       "      <th>SEX</th>\n",
       "      <th>OCCP</th>\n",
       "      <th>YEAR</th>\n",
       "      <th>NAME</th>\n",
       "    </tr>\n",
       "  </thead>\n",
       "  <tbody>\n",
       "    <tr>\n",
       "      <th>0</th>\n",
       "      <td>03303</td>\n",
       "      <td>42</td>\n",
       "      <td>16</td>\n",
       "      <td>59</td>\n",
       "      <td>NaN</td>\n",
       "      <td>1</td>\n",
       "      <td>NaN</td>\n",
       "      <td>2017</td>\n",
       "      <td>Delaware County (Southeast)--Chester City</td>\n",
       "    </tr>\n",
       "    <tr>\n",
       "      <th>1</th>\n",
       "      <td>03303</td>\n",
       "      <td>42</td>\n",
       "      <td>11</td>\n",
       "      <td>77</td>\n",
       "      <td>NaN</td>\n",
       "      <td>2</td>\n",
       "      <td>NaN</td>\n",
       "      <td>2017</td>\n",
       "      <td>Delaware County (Southeast)--Chester City</td>\n",
       "    </tr>\n",
       "    <tr>\n",
       "      <th>2</th>\n",
       "      <td>03303</td>\n",
       "      <td>42</td>\n",
       "      <td>10</td>\n",
       "      <td>79</td>\n",
       "      <td>NaN</td>\n",
       "      <td>1</td>\n",
       "      <td>NaN</td>\n",
       "      <td>2017</td>\n",
       "      <td>Delaware County (Southeast)--Chester City</td>\n",
       "    </tr>\n",
       "    <tr>\n",
       "      <th>3</th>\n",
       "      <td>03303</td>\n",
       "      <td>42</td>\n",
       "      <td>50</td>\n",
       "      <td>67</td>\n",
       "      <td>NaN</td>\n",
       "      <td>2</td>\n",
       "      <td>NaN</td>\n",
       "      <td>2017</td>\n",
       "      <td>Delaware County (Southeast)--Chester City</td>\n",
       "    </tr>\n",
       "    <tr>\n",
       "      <th>4</th>\n",
       "      <td>03303</td>\n",
       "      <td>42</td>\n",
       "      <td>55</td>\n",
       "      <td>28</td>\n",
       "      <td>NaN</td>\n",
       "      <td>2</td>\n",
       "      <td>3603</td>\n",
       "      <td>2017</td>\n",
       "      <td>Delaware County (Southeast)--Chester City</td>\n",
       "    </tr>\n",
       "  </tbody>\n",
       "</table>\n",
       "</div>"
      ],
      "text/plain": [
       "    PUMA  ST  PWGTP  AGEP JWTRNS SEX  OCCP  YEAR  \\\n",
       "0  03303  42     16    59    NaN   1   NaN  2017   \n",
       "1  03303  42     11    77    NaN   2   NaN  2017   \n",
       "2  03303  42     10    79    NaN   1   NaN  2017   \n",
       "3  03303  42     50    67    NaN   2   NaN  2017   \n",
       "4  03303  42     55    28    NaN   2  3603  2017   \n",
       "\n",
       "                                        NAME  \n",
       "0  Delaware County (Southeast)--Chester City  \n",
       "1  Delaware County (Southeast)--Chester City  \n",
       "2  Delaware County (Southeast)--Chester City  \n",
       "3  Delaware County (Southeast)--Chester City  \n",
       "4  Delaware County (Southeast)--Chester City  "
      ]
     },
     "execution_count": 42,
     "metadata": {},
     "output_type": "execute_result"
    }
   ],
   "source": [
    "ACS_PUMA_crosswalk.head()"
   ]
  },
  {
   "cell_type": "code",
   "execution_count": 43,
   "id": "f6ff0d22",
   "metadata": {},
   "outputs": [],
   "source": [
    "ACS_PUMA_crosswalk.to_csv('ACS_PUMA_crosswalk.csv', index = False)"
   ]
  }
 ],
 "metadata": {
  "kernelspec": {
   "display_name": "Python 3.9.5 64-bit",
   "language": "python",
   "name": "python395jvsc74a57bd07812ea015bdcee6f23a998adcdd2ef97c151c0c241b7b7070987d9313e41299d"
  },
  "language_info": {
   "codemirror_mode": {
    "name": "ipython",
    "version": 3
   },
   "file_extension": ".py",
   "mimetype": "text/x-python",
   "name": "python",
   "nbconvert_exporter": "python",
   "pygments_lexer": "ipython3",
   "version": "3.9.7"
  }
 },
 "nbformat": 4,
 "nbformat_minor": 5
}
